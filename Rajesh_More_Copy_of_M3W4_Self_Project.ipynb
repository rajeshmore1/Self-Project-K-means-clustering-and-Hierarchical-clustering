{
  "nbformat": 4,
  "nbformat_minor": 0,
  "metadata": {
    "kernelspec": {
      "display_name": "Python 3",
      "language": "python",
      "name": "python3"
    },
    "language_info": {
      "codemirror_mode": {
        "name": "ipython",
        "version": 3
      },
      "file_extension": ".py",
      "mimetype": "text/x-python",
      "name": "python",
      "nbconvert_exporter": "python",
      "pygments_lexer": "ipython3",
      "version": "3.7.1"
    },
    "colab": {
      "name": "Rajesh More-Copy of M3W4 - Self Project.ipynb",
      "provenance": [],
      "collapsed_sections": [],
      "include_colab_link": true
    }
  },
  "cells": [
    {
      "cell_type": "markdown",
      "metadata": {
        "id": "view-in-github",
        "colab_type": "text"
      },
      "source": [
        "<a href=\"https://colab.research.google.com/github/rajeshmore1/Self-Project-K-means-clustering-and-Hierarchical-clustering/blob/main/Rajesh_More_Copy_of_M3W4_Self_Project.ipynb\" target=\"_parent\"><img src=\"https://colab.research.google.com/assets/colab-badge.svg\" alt=\"Open In Colab\"/></a>"
      ]
    },
    {
      "cell_type": "markdown",
      "metadata": {
        "id": "PYsTFWXYjCxF"
      },
      "source": [
        "# <u><b> Objective : This task requires you to build text clusters and report whether these clusters make sense. </b></u>\n",
        "\n",
        "* ###  For this clustering project on text, you will use a dataset named 20newsgroup. This is available in sklearn.datasets. You can use the code given below in the code cells to fetch the data.\n",
        "\n",
        "* ### Next you need to run a TFIDFVectorizer on the sentences to obtain a document-word sparse matrix. Use this array as your $X$.\n",
        "\n",
        "* ### Once you have got your array, you can apply different clustering techniques such as K-Means clustering and Hierarchical clustering to obtain meaningful clusters. Check if these clusters seem relevant and well separated. \n",
        "\n",
        "* ### Finally you can use dimensionality reduction technqiues such as PCA or t-SNE(you can read about it and use it straight away) to come up with two dimensional visualization of these clusters. \n",
        "\n",
        "\n",
        "\n",
        "\n",
        "\n"
      ]
    },
    {
      "cell_type": "markdown",
      "metadata": {
        "id": "Aqyh98juuigZ"
      },
      "source": [
        "### In your <b>Capstone project</b>, you will perform clustering on documents to find relevant themes/topics. We call this Topic Modeling. There are different algorithms for building a topic model such as Latent Dirichlet Allocation (LDA), NMF etc. For now you are only expected to use the clustering algorithms discussed so far."
      ]
    },
    {
      "cell_type": "code",
      "metadata": {
        "id": "DLMbD3HwOgIb"
      },
      "source": [
        "from sklearn.naive_bayes import MultinomialNB\r\n",
        "from sklearn.naive_bayes import BernoulliNB\r\n",
        "from sklearn.pipeline import Pipeline\r\n",
        "from sklearn.feature_extraction.text import TfidfVectorizer\r\n",
        "from sklearn.feature_extraction.text import TfidfTransformer\r\n",
        "from sklearn.linear_model import SGDClassifier\r\n",
        "from sklearn.linear_model import LogisticRegression\r\n",
        "from nltk.stem.snowball import SnowballStemmer\r\n",
        "from nltk import word_tokenize          \r\n",
        "from nltk.stem import WordNetLemmatizer\r\n",
        "from sklearn.neighbors import KNeighborsClassifier\r\n",
        "from sklearn.ensemble import RandomForestClassifier\r\n",
        "import numpy as np\r\n",
        "\r\n",
        "import matplotlib.pyplot as plt\r\n",
        "%matplotlib inline\r\n",
        "\r\n",
        "import nltk\r\n",
        "import pandas as pd\r\n",
        "import random\r\n",
        "from sklearn.model_selection import GridSearchCV"
      ],
      "execution_count": 6,
      "outputs": []
    },
    {
      "cell_type": "code",
      "metadata": {
        "id": "fzR-pF_7VpPU"
      },
      "source": [
        "dataset = fetch_20newsgroups(download_if_missing=True,remove = ('headers', 'footers', 'quotes'))"
      ],
      "execution_count": 7,
      "outputs": []
    },
    {
      "cell_type": "code",
      "metadata": {
        "colab": {
          "base_uri": "https://localhost:8080/"
        },
        "id": "Kc5Ku7S0Vu4E",
        "outputId": "75af70fa-7d6c-4184-96d9-ab612612f9a8"
      },
      "source": [
        "print('Training data size:', len(dataset['data']))\r\n"
      ],
      "execution_count": 9,
      "outputs": [
        {
          "output_type": "stream",
          "text": [
            "Training data size: 11314\n"
          ],
          "name": "stdout"
        }
      ]
    },
    {
      "cell_type": "code",
      "metadata": {
        "colab": {
          "base_uri": "https://localhost:8080/"
        },
        "id": "wjW0wCycVy56",
        "outputId": "1f2278ef-3ca5-4618-d69b-a1df0f230adf"
      },
      "source": [
        "len(dataset['target'])\r\n"
      ],
      "execution_count": 10,
      "outputs": [
        {
          "output_type": "execute_result",
          "data": {
            "text/plain": [
              "11314"
            ]
          },
          "metadata": {
            "tags": []
          },
          "execution_count": 10
        }
      ]
    },
    {
      "cell_type": "code",
      "metadata": {
        "colab": {
          "base_uri": "https://localhost:8080/"
        },
        "id": "Q72UDsgIV9zq",
        "outputId": "f082b3de-29e5-4d59-ec66-01b35f84f804"
      },
      "source": [
        "dataset.target_names\r\n"
      ],
      "execution_count": 11,
      "outputs": [
        {
          "output_type": "execute_result",
          "data": {
            "text/plain": [
              "['alt.atheism',\n",
              " 'comp.graphics',\n",
              " 'comp.os.ms-windows.misc',\n",
              " 'comp.sys.ibm.pc.hardware',\n",
              " 'comp.sys.mac.hardware',\n",
              " 'comp.windows.x',\n",
              " 'misc.forsale',\n",
              " 'rec.autos',\n",
              " 'rec.motorcycles',\n",
              " 'rec.sport.baseball',\n",
              " 'rec.sport.hockey',\n",
              " 'sci.crypt',\n",
              " 'sci.electronics',\n",
              " 'sci.med',\n",
              " 'sci.space',\n",
              " 'soc.religion.christian',\n",
              " 'talk.politics.guns',\n",
              " 'talk.politics.mideast',\n",
              " 'talk.politics.misc',\n",
              " 'talk.religion.misc']"
            ]
          },
          "metadata": {
            "tags": []
          },
          "execution_count": 11
        }
      ]
    },
    {
      "cell_type": "code",
      "metadata": {
        "colab": {
          "base_uri": "https://localhost:8080/"
        },
        "id": "w05qV7GMWBmn",
        "outputId": "74aa4eb8-05a0-4dce-9605-254e87eaa53a"
      },
      "source": [
        "# Finding frequency of each category\r\n",
        "targets, frequency = np.unique(dataset.target, return_counts=True)\r\n",
        "targets, frequency"
      ],
      "execution_count": 12,
      "outputs": [
        {
          "output_type": "execute_result",
          "data": {
            "text/plain": [
              "(array([ 0,  1,  2,  3,  4,  5,  6,  7,  8,  9, 10, 11, 12, 13, 14, 15, 16,\n",
              "        17, 18, 19]),\n",
              " array([480, 584, 591, 590, 578, 593, 585, 594, 598, 597, 600, 595, 591,\n",
              "        594, 593, 599, 546, 564, 465, 377]))"
            ]
          },
          "metadata": {
            "tags": []
          },
          "execution_count": 12
        }
      ]
    },
    {
      "cell_type": "code",
      "metadata": {
        "colab": {
          "base_uri": "https://localhost:8080/"
        },
        "id": "zkh7GyCnWKRb",
        "outputId": "1caafca4-18c8-4973-e196-77b60db02ace"
      },
      "source": [
        "targets_str = np.array(dataset.target_names)\r\n",
        "print(list(zip(targets_str, frequency)))"
      ],
      "execution_count": 13,
      "outputs": [
        {
          "output_type": "stream",
          "text": [
            "[('alt.atheism', 480), ('comp.graphics', 584), ('comp.os.ms-windows.misc', 591), ('comp.sys.ibm.pc.hardware', 590), ('comp.sys.mac.hardware', 578), ('comp.windows.x', 593), ('misc.forsale', 585), ('rec.autos', 594), ('rec.motorcycles', 598), ('rec.sport.baseball', 597), ('rec.sport.hockey', 600), ('sci.crypt', 595), ('sci.electronics', 591), ('sci.med', 594), ('sci.space', 593), ('soc.religion.christian', 599), ('talk.politics.guns', 546), ('talk.politics.mideast', 564), ('talk.politics.misc', 465), ('talk.religion.misc', 377)]\n"
          ],
          "name": "stdout"
        }
      ]
    },
    {
      "cell_type": "code",
      "metadata": {
        "colab": {
          "base_uri": "https://localhost:8080/",
          "height": 524
        },
        "id": "rbJZN01SWPMy",
        "outputId": "e90d54fc-0e95-4808-a16f-926971954741"
      },
      "source": [
        "fig=plt.figure(figsize=(10, 5), dpi= 80, facecolor='w', edgecolor='k')\r\n",
        "plt.bar(targets_str,frequency)\r\n",
        "plt.xticks(rotation=90)\r\n",
        "plt.title('Class distribution of 20 Newsgroups Training Data')\r\n",
        "plt.xlabel('News Group')\r\n",
        "plt.ylabel('Frequency')\r\n",
        "plt.show()"
      ],
      "execution_count": 14,
      "outputs": [
        {
          "output_type": "display_data",
          "data": {
            "image/png": "[encoded data removed]",
            "text/plain": [
              "<Figure size 800x400 with 1 Axes>"
            ]
          },
          "metadata": {
            "tags": []
          }
        }
      ]
    },
    {
      "cell_type": "code",
      "metadata": {
        "colab": {
          "base_uri": "https://localhost:8080/",
          "height": 204
        },
        "id": "iJ8Pv0FZWdNY",
        "outputId": "59bb5836-32e8-4744-a1d4-80186c7b576e"
      },
      "source": [
        "dataset_df = pd.DataFrame({'data': dataset.data, 'target': dataset.target})\r\n",
        "dataset_df.head()"
      ],
      "execution_count": 15,
      "outputs": [
        {
          "output_type": "execute_result",
          "data": {
            "text/html": [
              "<div>\n",
              "<style scoped>\n",
              "    .dataframe tbody tr th:only-of-type {\n",
              "        vertical-align: middle;\n",
              "    }\n",
              "\n",
              "    .dataframe tbody tr th {\n",
              "        vertical-align: top;\n",
              "    }\n",
              "\n",
              "    .dataframe thead th {\n",
              "        text-align: right;\n",
              "    }\n",
              "</style>\n",
              "<table border=\"1\" class=\"dataframe\">\n",
              "  <thead>\n",
              "    <tr style=\"text-align: right;\">\n",
              "      <th></th>\n",
              "      <th>data</th>\n",
              "      <th>target</th>\n",
              "    </tr>\n",
              "  </thead>\n",
              "  <tbody>\n",
              "    <tr>\n",
              "      <th>0</th>\n",
              "      <td>I was wondering if anyone out there could enli...</td>\n",
              "      <td>7</td>\n",
              "    </tr>\n",
              "    <tr>\n",
              "      <th>1</th>\n",
              "      <td>A fair number of brave souls who upgraded thei...</td>\n",
              "      <td>4</td>\n",
              "    </tr>\n",
              "    <tr>\n",
              "      <th>2</th>\n",
              "      <td>well folks, my mac plus finally gave up the gh...</td>\n",
              "      <td>4</td>\n",
              "    </tr>\n",
              "    <tr>\n",
              "      <th>3</th>\n",
              "      <td>\\nDo you have Weitek's address/phone number?  ...</td>\n",
              "      <td>1</td>\n",
              "    </tr>\n",
              "    <tr>\n",
              "      <th>4</th>\n",
              "      <td>From article &lt;C5owCB.n3p@world.std.com&gt;, by to...</td>\n",
              "      <td>14</td>\n",
              "    </tr>\n",
              "  </tbody>\n",
              "</table>\n",
              "</div>"
            ],
            "text/plain": [
              "                                                data  target\n",
              "0  I was wondering if anyone out there could enli...       7\n",
              "1  A fair number of brave souls who upgraded thei...       4\n",
              "2  well folks, my mac plus finally gave up the gh...       4\n",
              "3  \\nDo you have Weitek's address/phone number?  ...       1\n",
              "4  From article <C5owCB.n3p@world.std.com>, by to...      14"
            ]
          },
          "metadata": {
            "tags": []
          },
          "execution_count": 15
        }
      ]
    },
    {
      "cell_type": "code",
      "metadata": {
        "colab": {
          "base_uri": "https://localhost:8080/",
          "height": 204
        },
        "id": "17iZ1O37Wo4Z",
        "outputId": "dde497a7-61f4-4c40-a7c9-384abc2d8997"
      },
      "source": [
        "# Text preprocessing steps - remove numbers, captial letters and punctuation\r\n",
        "import re\r\n",
        "import string\r\n",
        "\r\n",
        "alphanumeric = lambda x: re.sub(r\"\"\"\\w*\\d\\w*\"\"\", ' ', x)\r\n",
        "punc_lower = lambda x: re.sub('[%s]' % re.escape(string.punctuation), ' ', x.lower())\r\n",
        "\r\n",
        "dataset_df['data'] = dataset_df.data.map(alphanumeric).map(punc_lower)\r\n",
        "dataset_df.head()"
      ],
      "execution_count": 16,
      "outputs": [
        {
          "output_type": "execute_result",
          "data": {
            "text/html": [
              "<div>\n",
              "<style scoped>\n",
              "    .dataframe tbody tr th:only-of-type {\n",
              "        vertical-align: middle;\n",
              "    }\n",
              "\n",
              "    .dataframe tbody tr th {\n",
              "        vertical-align: top;\n",
              "    }\n",
              "\n",
              "    .dataframe thead th {\n",
              "        text-align: right;\n",
              "    }\n",
              "</style>\n",
              "<table border=\"1\" class=\"dataframe\">\n",
              "  <thead>\n",
              "    <tr style=\"text-align: right;\">\n",
              "      <th></th>\n",
              "      <th>data</th>\n",
              "      <th>target</th>\n",
              "    </tr>\n",
              "  </thead>\n",
              "  <tbody>\n",
              "    <tr>\n",
              "      <th>0</th>\n",
              "      <td>i was wondering if anyone out there could enli...</td>\n",
              "      <td>7</td>\n",
              "    </tr>\n",
              "    <tr>\n",
              "      <th>1</th>\n",
              "      <td>a fair number of brave souls who upgraded thei...</td>\n",
              "      <td>4</td>\n",
              "    </tr>\n",
              "    <tr>\n",
              "      <th>2</th>\n",
              "      <td>well folks  my mac plus finally gave up the gh...</td>\n",
              "      <td>4</td>\n",
              "    </tr>\n",
              "    <tr>\n",
              "      <th>3</th>\n",
              "      <td>\\ndo you have weitek s address phone number   ...</td>\n",
              "      <td>1</td>\n",
              "    </tr>\n",
              "    <tr>\n",
              "      <th>4</th>\n",
              "      <td>from article      world std com   by tombaker ...</td>\n",
              "      <td>14</td>\n",
              "    </tr>\n",
              "  </tbody>\n",
              "</table>\n",
              "</div>"
            ],
            "text/plain": [
              "                                                data  target\n",
              "0  i was wondering if anyone out there could enli...       7\n",
              "1  a fair number of brave souls who upgraded thei...       4\n",
              "2  well folks  my mac plus finally gave up the gh...       4\n",
              "3  \\ndo you have weitek s address phone number   ...       1\n",
              "4  from article      world std com   by tombaker ...      14"
            ]
          },
          "metadata": {
            "tags": []
          },
          "execution_count": 16
        }
      ]
    },
    {
      "cell_type": "code",
      "metadata": {
        "colab": {
          "base_uri": "https://localhost:8080/"
        },
        "id": "8LdYdzH5Y3SN",
        "outputId": "173afde5-4a04-4e6a-de5c-98a68b0dcf4a"
      },
      "source": [
        "dataset_df.data"
      ],
      "execution_count": 18,
      "outputs": [
        {
          "output_type": "execute_result",
          "data": {
            "text/plain": [
              "0        i was wondering if anyone out there could enli...\n",
              "1        a fair number of brave souls who upgraded thei...\n",
              "2        well folks  my mac plus finally gave up the gh...\n",
              "3        \\ndo you have weitek s address phone number   ...\n",
              "4        from article      world std com   by tombaker ...\n",
              "                               ...                        \n",
              "11309    dn  from  nyeda cnsvax uwec edu  david nye \\nd...\n",
              "11310    i have a  very old  mac   and a mac plus  both...\n",
              "11311    i just installed a     cpu in a clone motherbo...\n",
              "11312    \\nwouldn t this require a hyper sphere   in   ...\n",
              "11313    stolen from pasadena between     and     pm on...\n",
              "Name: data, Length: 11314, dtype: object"
            ]
          },
          "metadata": {
            "tags": []
          },
          "execution_count": 18
        }
      ]
    },
    {
      "cell_type": "markdown",
      "metadata": {
        "id": "sX8awy-afwEu"
      },
      "source": [
        "# K means Clustering:"
      ]
    },
    {
      "cell_type": "code",
      "metadata": {
        "id": "nk3rVfxOfysq"
      },
      "source": [
        "texts = dataset.data # Extract text\r\n",
        "target = dataset.target # Extract target"
      ],
      "execution_count": 32,
      "outputs": []
    },
    {
      "cell_type": "code",
      "metadata": {
        "id": "YMdwpynNf42K"
      },
      "source": [
        "vectorizer = TfidfVectorizer(stop_words='english')\r\n",
        "X = vectorizer.fit_transform(texts)\r\n"
      ],
      "execution_count": 33,
      "outputs": []
    },
    {
      "cell_type": "code",
      "metadata": {
        "colab": {
          "base_uri": "https://localhost:8080/"
        },
        "id": "fbEHz3Uff5lg",
        "outputId": "efaf40d4-f0a4-438e-db9f-b925a0cb09ef"
      },
      "source": [
        "number_of_clusters = 20\r\n",
        "\r\n",
        "\r\n",
        "model = KMeans(n_clusters=number_of_clusters, \r\n",
        "               init='k-means++', \r\n",
        "               max_iter=100, # Maximum number of iterations of the k-means algorithm for a single run.\r\n",
        "               n_init=1)  # Number of time the k-means algorithm will be run with different centroid seeds. The final results will be the best output of n_init consecutive runs in terms of inertia.\r\n",
        "\r\n",
        "model.fit(X)"
      ],
      "execution_count": 34,
      "outputs": [
        {
          "output_type": "execute_result",
          "data": {
            "text/plain": [
              "KMeans(algorithm='auto', copy_x=True, init='k-means++', max_iter=100,\n",
              "       n_clusters=20, n_init=1, n_jobs=None, precompute_distances='auto',\n",
              "       random_state=None, tol=0.0001, verbose=0)"
            ]
          },
          "metadata": {
            "tags": []
          },
          "execution_count": 34
        }
      ]
    },
    {
      "cell_type": "code",
      "metadata": {
        "id": "qkNhzds6f-QY"
      },
      "source": [
        "order_centroids = model.cluster_centers_.argsort()[:, ::-1]\r\n",
        "terms = vectorizer.get_feature_names()"
      ],
      "execution_count": 35,
      "outputs": []
    },
    {
      "cell_type": "code",
      "metadata": {
        "colab": {
          "base_uri": "https://localhost:8080/"
        },
        "id": "IJ1i1F9DgIcD",
        "outputId": "76f32430-ab42-4ec8-d1c1-5b47a8f24fc0"
      },
      "source": [
        "for i in range(number_of_clusters):\r\n",
        "    print(\"Cluster %d:\" % i),\r\n",
        "    for ind in order_centroids[i, :10]:\r\n",
        "        print(' %s' % terms[ind])\r\n"
      ],
      "execution_count": 36,
      "outputs": [
        {
          "output_type": "stream",
          "text": [
            "Cluster 0:\n",
            " education\n",
            " democratic\n",
            " democrat\n",
            " republican\n",
            " democracy\n",
            " money\n",
            " congress\n",
            " spend\n",
            " tennessee\n",
            " contend\n",
            "Cluster 1:\n",
            " wycomb\n",
            " horsley\n",
            " gerhard\n",
            " wycliffe\n",
            " bothering\n",
            " xl\n",
            " number\n",
            " staying\n",
            " bucks\n",
            " surprise\n",
            "Cluster 2:\n",
            " sensors\n",
            " engine\n",
            " ford\n",
            " cam\n",
            " sensor\n",
            " fixes\n",
            " damaged\n",
            " circut\n",
            " denys\n",
            " went\n",
            "Cluster 3:\n",
            " like\n",
            " just\n",
            " know\n",
            " don\n",
            " people\n",
            " think\n",
            " does\n",
            " thanks\n",
            " good\n",
            " use\n",
            "Cluster 4:\n",
            " empathetic\n",
            " aisun3\n",
            " mcovingt\n",
            " ditch\n",
            " covington\n",
            " shy\n",
            " uga\n",
            " knowledgeable\n",
            " jerk\n",
            " sounded\n",
            "Cluster 5:\n",
            " camera\n",
            " complaint\n",
            " puck\n",
            " zoomed\n",
            " panned\n",
            " cameramen\n",
            " occassion\n",
            " pitt\n",
            " rebound\n",
            " mom\n",
            "Cluster 6:\n",
            " 9591\n",
            " 18084tm\n",
            " mcwilliams\n",
            " circumference\n",
            " 2178\n",
            " 517\n",
            " 336\n",
            " wk\n",
            " 355\n",
            " grows\n",
            "Cluster 7:\n",
            " 30khz\n",
            " flop\n",
            " lori\n",
            " divide\n",
            " khz\n",
            " flip\n",
            " receiving\n",
            " square\n",
            " signal\n",
            " led\n",
            "Cluster 8:\n",
            " atoms\n",
            " tcha\n",
            " tep\n",
            " xenon\n",
            " krypton\n",
            " electrons\n",
            " verifiable\n",
            " observable\n",
            " noble\n",
            " smallest\n",
            "Cluster 9:\n",
            " homosexual\n",
            " men\n",
            " sexual\n",
            " male\n",
            " partners\n",
            " promiscuous\n",
            " dramatically\n",
            " gay\n",
            " bi\n",
            " kolodny\n",
            "Cluster 10:\n",
            " risc\n",
            " instruction\n",
            " set\n",
            " cpus\n",
            " reduced\n",
            " computer\n",
            " orthogonal\n",
            " cisc\n",
            " uvax\n",
            " architecture\n",
            "Cluster 11:\n",
            " palestinean\n",
            " palestineans\n",
            " plo\n",
            " lebanon\n",
            " bloodbath\n",
            " occupier\n",
            " occupying\n",
            " alike\n",
            " procedures\n",
            " practices\n",
            "Cluster 12:\n",
            " adaptor\n",
            " price\n",
            " asking\n",
            " microphone\n",
            " battery\n",
            " high\n",
            " meg\n",
            " wide\n",
            " sold\n",
            " obo\n",
            "Cluster 13:\n",
            " cash\n",
            " ground\n",
            " outlets\n",
            " registers\n",
            " neutral\n",
            " line\n",
            " noise\n",
            " connected\n",
            " company\n",
            " check\n",
            "Cluster 14:\n",
            " places\n",
            " order\n",
            " hard\n",
            " macuser\n",
            " macworld\n",
            " advertise\n",
            " 40mb\n",
            " mail\n",
            " brands\n",
            " drew\n",
            "Cluster 15:\n",
            " enabler\n",
            " investigate\n",
            " duo\n",
            " fixes\n",
            " problem\n",
            " rep\n",
            " sleep\n",
            " apple\n",
            " related\n",
            " type\n",
            "Cluster 16:\n",
            " uv\n",
            " bulbs\n",
            " flashlight\n",
            " bulb\n",
            " fluorescent\n",
            " light\n",
            " wave\n",
            " near\n",
            " portable\n",
            " cheap\n",
            "Cluster 17:\n",
            " insurance\n",
            " year\n",
            " car\n",
            " 924\n",
            " rate\n",
            " supra\n",
            " years\n",
            " turbo\n",
            " porsche\n",
            " celica\n",
            "Cluster 18:\n",
            " hockey\n",
            " nhl\n",
            " league\n",
            " season\n",
            " team\n",
            " edu\n",
            " draft\n",
            " echl\n",
            " ahl\n",
            " division\n",
            "Cluster 19:\n",
            " key\n",
            " encryption\n",
            " chip\n",
            " clipper\n",
            " keys\n",
            " escrow\n",
            " government\n",
            " secure\n",
            " algorithm\n",
            " nsa\n"
          ],
          "name": "stdout"
        }
      ]
    },
    {
      "cell_type": "code",
      "metadata": {
        "colab": {
          "base_uri": "https://localhost:8080/"
        },
        "id": "HnGKVfxOgLln",
        "outputId": "a3468e7f-4fdf-472c-feeb-5561dba0b63c"
      },
      "source": [
        "print (texts[400])\r\n"
      ],
      "execution_count": 37,
      "outputs": [
        {
          "output_type": "stream",
          "text": [
            "Isn't Clipper a trademark of Fairchild Semiconductor?\n"
          ],
          "name": "stdout"
        }
      ]
    },
    {
      "cell_type": "code",
      "metadata": {
        "colab": {
          "base_uri": "https://localhost:8080/"
        },
        "id": "ucB7Su2KgQ6Z",
        "outputId": "a26bb997-65e8-4fbe-8013-ed665fb8c602"
      },
      "source": [
        "X = vectorizer.transform([texts[400]])\r\n",
        "\r\n",
        "cluster = model.predict(X)[0]\r\n",
        "\r\n",
        "print(\"Text belongs to cluster number {0}\".format(cluster))"
      ],
      "execution_count": 38,
      "outputs": [
        {
          "output_type": "stream",
          "text": [
            "Text belongs to cluster number 3\n"
          ],
          "name": "stdout"
        }
      ]
    },
    {
      "cell_type": "code",
      "metadata": {
        "colab": {
          "base_uri": "https://localhost:8080/"
        },
        "id": "sLJ0HShbgX_4",
        "outputId": "1b8f516a-fdfe-4d6f-d6b1-e70372b9e29f"
      },
      "source": [
        "for ind in order_centroids[cluster, :10]:\r\n",
        "    print(' %s' % terms[ind])"
      ],
      "execution_count": 39,
      "outputs": [
        {
          "output_type": "stream",
          "text": [
            " like\n",
            " just\n",
            " know\n",
            " don\n",
            " people\n",
            " think\n",
            " does\n",
            " thanks\n",
            " good\n",
            " use\n"
          ],
          "name": "stdout"
        }
      ]
    },
    {
      "cell_type": "code",
      "metadata": {
        "id": "EmwZ8UDwk8kv"
      },
      "source": [
        "from sklearn.cluster import AgglomerativeClustering"
      ],
      "execution_count": 55,
      "outputs": []
    },
    {
      "cell_type": "code",
      "metadata": {
        "id": "OSu5FMSpoiTw"
      },
      "source": [
        "X3= X.reshape(1,-1)"
      ],
      "execution_count": 65,
      "outputs": []
    },
    {
      "cell_type": "code",
      "metadata": {
        "id": "fZaEJVvfp4Z7"
      },
      "source": [
        "import seaborn as sns"
      ],
      "execution_count": 69,
      "outputs": []
    },
    {
      "cell_type": "code",
      "metadata": {
        "colab": {
          "base_uri": "https://localhost:8080/",
          "height": 336
        },
        "id": "e8E1vHh3pbVO",
        "outputId": "574efb63-4781-4aa5-ac47-3d16e634a796"
      },
      "source": [
        "count_target = dataset_df['target'].value_counts()\r\n",
        "\r\n",
        "plt.figure(figsize=(8,4))\r\n",
        "sns.barplot(count_target.index, count_target.values, alpha=0.8)\r\n",
        "plt.ylabel('Number of Occurrences', fontsize=12)\r\n",
        "plt.xlabel('Target', fontsize=12);"
      ],
      "execution_count": 70,
      "outputs": [
        {
          "output_type": "stream",
          "text": [
            "/usr/local/lib/python3.6/dist-packages/seaborn/_decorators.py:43: FutureWarning: Pass the following variables as keyword args: x, y. From version 0.12, the only valid positional argument will be `data`, and passing other arguments without an explicit keyword will result in an error or misinterpretation.\n",
            "  FutureWarning\n"
          ],
          "name": "stderr"
        },
        {
          "output_type": "display_data",
          "data": {
            "image/png": "[encoded data removed]",
            "text/plain": [
              "<Figure size 576x288 with 1 Axes>"
            ]
          },
          "metadata": {
            "tags": [],
            "needs_background": "light"
          }
        }
      ]
    },
    {
      "cell_type": "code",
      "metadata": {
        "colab": {
          "base_uri": "https://localhost:8080/"
        },
        "id": "Cby6PJjrp2oc",
        "outputId": "d338d6e0-9c24-44f1-9980-3aa4159cc489"
      },
      "source": [
        "plt.figure(figsize=(12,12))\r\n",
        "sns.violinplot(x='data', y='target', data=dataset_df)\r\n",
        "plt.xlabel('Target', fontsize=12)\r\n",
        "plt.ylabel('Number of unique characters in text', fontsize=12)\r\n",
        "plt.title(\"Number of unique characters by target\", fontsize=15);"
      ],
      "execution_count": null,
      "outputs": [
        {
          "output_type": "stream",
          "text": [
            "/usr/local/lib/python3.6/dist-packages/matplotlib/backends/backend_agg.py:214: RuntimeWarning: Glyph 9 missing from current font.\n",
            "  font.set_text(s, 0.0, flags=flags)\n",
            "/usr/local/lib/python3.6/dist-packages/matplotlib/backends/backend_agg.py:214: RuntimeWarning: Glyph 8 missing from current font.\n",
            "  font.set_text(s, 0.0, flags=flags)\n",
            "/usr/local/lib/python3.6/dist-packages/matplotlib/backends/backend_agg.py:214: RuntimeWarning: Glyph 12 missing from current font.\n",
            "  font.set_text(s, 0.0, flags=flags)\n",
            "/usr/local/lib/python3.6/dist-packages/matplotlib/backends/backend_agg.py:214: RuntimeWarning: Glyph 13 missing from current font.\n",
            "  font.set_text(s, 0.0, flags=flags)\n",
            "/usr/local/lib/python3.6/dist-packages/matplotlib/backends/backend_agg.py:214: RuntimeWarning: Glyph 30 missing from current font.\n",
            "  font.set_text(s, 0.0, flags=flags)\n",
            "/usr/local/lib/python3.6/dist-packages/matplotlib/backends/backend_agg.py:214: RuntimeWarning: Glyph 27 missing from current font.\n",
            "  font.set_text(s, 0.0, flags=flags)\n",
            "/usr/local/lib/python3.6/dist-packages/matplotlib/backends/backend_agg.py:214: RuntimeWarning: Glyph 127 missing from current font.\n",
            "  font.set_text(s, 0.0, flags=flags)\n",
            "/usr/local/lib/python3.6/dist-packages/matplotlib/backends/backend_agg.py:183: RuntimeWarning: Glyph 9 missing from current font.\n",
            "  font.set_text(s, 0, flags=flags)\n",
            "/usr/local/lib/python3.6/dist-packages/matplotlib/backends/backend_agg.py:183: RuntimeWarning: Glyph 8 missing from current font.\n",
            "  font.set_text(s, 0, flags=flags)\n",
            "/usr/local/lib/python3.6/dist-packages/matplotlib/backends/backend_agg.py:183: RuntimeWarning: Glyph 12 missing from current font.\n",
            "  font.set_text(s, 0, flags=flags)\n",
            "/usr/local/lib/python3.6/dist-packages/matplotlib/backends/backend_agg.py:183: RuntimeWarning: Glyph 13 missing from current font.\n",
            "  font.set_text(s, 0, flags=flags)\n",
            "/usr/local/lib/python3.6/dist-packages/matplotlib/backends/backend_agg.py:183: RuntimeWarning: Glyph 30 missing from current font.\n",
            "  font.set_text(s, 0, flags=flags)\n",
            "/usr/local/lib/python3.6/dist-packages/matplotlib/backends/backend_agg.py:183: RuntimeWarning: Glyph 27 missing from current font.\n",
            "  font.set_text(s, 0, flags=flags)\n",
            "/usr/local/lib/python3.6/dist-packages/matplotlib/backends/backend_agg.py:183: RuntimeWarning: Glyph 127 missing from current font.\n",
            "  font.set_text(s, 0, flags=flags)\n"
          ],
          "name": "stderr"
        }
      ]
    },
    {
      "cell_type": "code",
      "metadata": {
        "id": "5rXBECAuqIQL"
      },
      "source": [
        ""
      ],
      "execution_count": null,
      "outputs": []
    }
  ]
}